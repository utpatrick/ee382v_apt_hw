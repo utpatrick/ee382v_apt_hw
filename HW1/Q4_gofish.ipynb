{
 "cells": [
  {
   "cell_type": "markdown",
   "metadata": {},
   "source": [
    "Q4\n",
    "\n",
    "In this program, first I create the deck as described and ran my first trial. I realized that the \"lay-down\" code isn't operated as expected. Thus, I change the check condition to len(hand[cardRank]) == 4, which gives us the proper output."
   ]
  },
  {
   "cell_type": "code",
   "execution_count": 20,
   "metadata": {
    "collapsed": false
   },
   "outputs": [
    {
     "name": "stdout",
     "output_type": "stream",
     "text": [
      "A lay down 2s\n",
      "A lay down 4s\n",
      "A lay down Ks\n",
      "A lay down 6s\n",
      "A lay down 7s\n",
      "A lay down 5s\n",
      "A lay down 3s\n",
      "A lay down Js\n",
      "A lay down Qs\n",
      "A lay down As\n",
      "A lay down 9s\n",
      "A lay down 8s\n",
      "A lay down 10s\n"
     ]
    }
   ],
   "source": [
    "# from Adam Barr's wonderful book \"Find the Bug\"\n",
    "\n",
    "''' This function draws a card from a deck and puts it into a hand. It is\n",
    "meant to be part of the game Go Fish, so if the resulting hand has all four \n",
    "suits for a given card rank, those four cards are removed from the hand. \n",
    "Cards are identified by their rank and suit: the rank is one of the elements\n",
    "in the list [\"2\", \"3\", \"4\", \"5\", \"6\", \"7\", \"8\", \"9\", \"10\", \"J\", \"Q\", \"K\", \"A\"]\n",
    "and the suit is one of the elements of the list [\"spades\", \"hearts\", \"diamonds\", \"clubs\"].\n",
    "A deck is a list that initially contains 52 elements. Each element of the list\n",
    "is a tuple with two elements: the rank and the suit. So a single entry\n",
    "in the deck might be the tuple (\"K\", \"spades\"), which is the king of spades.\n",
    "A hand is a dictionary. In each element of the dictionary, the key is\n",
    "the rank and the value is a list that contains the names of the suits that the hand\n",
    "holds for that rank. E.g., if a hand as the 3 of spades and the 3 of hearts, and\n",
    "no other 3s, then the key \"3\" has the value [\"spades\", \"hearts\"]. A key should not\n",
    "have an empty list associated with it - if no cards of a given rank are held,\n",
    "no value exists for that key.'''\n",
    "\n",
    "import random\n",
    "\n",
    "def getCard(deck):\n",
    "\n",
    "  ''' Randomly remove a single card from the deck and return it. Assumes that the deck \n",
    "      is not empty.\n",
    "      deck: A deck as described above\n",
    "      Returns: a single card, which is a tuple with two elements, the rank and the suit\n",
    "  '''\n",
    "\n",
    "  index = int (len(deck) * random.random())\n",
    "  newCard = deck[index]\n",
    "  del deck[index]\n",
    "  return newCard\n",
    "\n",
    "def drawCard(name, deck, hand):\n",
    "\n",
    "  ''' Draw a new card from the deck and add it to the hand. If the hand now holds the rank\n",
    "      in all four suits, then remove them from the hand.\n",
    "      name: A string with the name of the playerHand, used only for display purposes.\n",
    "      deck: A deck as described above\n",
    "      hand: A hand dictionary as described above\n",
    "      Returns: None.\n",
    "  '''\n",
    "\n",
    "  if len(deck) > 0: # protect against empty deck\n",
    "    newCard = getCard(deck)\n",
    "    cardRank = newCard[0]\n",
    "    cardSuit = newCard[1]\n",
    "\n",
    "    if cardRank in hand:\n",
    "      # append this suit to the result\n",
    "      hand[cardRank].append(cardSuit)\n",
    "        \n",
    "      # -----------------\n",
    "      # change to hand[cardRank] to properly check if there's 4 of the same rank card in hand \n",
    "      # -----------------\n",
    "    \n",
    "      if len(hand[cardRank]) == 4:\n",
    "        print(name, \"lay down\", cardRank + \"s\")\n",
    "        del hand[cardRank]\n",
    "\n",
    "    else:\n",
    "      # first of this suit, create a list with one element\n",
    "      hand[cardRank] =  [ cardSuit ]\n",
    "\n",
    "def testing():\n",
    "    deck = []\n",
    "    for i in [\"2\", \"3\", \"4\", \"5\", \"6\", \"7\", \"8\", \"9\", \"10\", \"J\", \"Q\", \"K\", \"A\"]:\n",
    "        for j in [\"spades\", \"hearts\", \"diamonds\", \"clubs\"]:\n",
    "            deck.append((i,j))\n",
    "    hand = {}\n",
    "    for i in range(0,52):\n",
    "        drawCard('A', deck, hand)\n",
    "    \n",
    "testing()"
   ]
  }
 ],
 "metadata": {
  "kernelspec": {
   "display_name": "Python 3",
   "language": "python",
   "name": "python3"
  },
  "language_info": {
   "codemirror_mode": {
    "name": "ipython",
    "version": 3
   },
   "file_extension": ".py",
   "mimetype": "text/x-python",
   "name": "python",
   "nbconvert_exporter": "python",
   "pygments_lexer": "ipython3",
   "version": "3.5.3"
  }
 },
 "nbformat": 4,
 "nbformat_minor": 2
}
