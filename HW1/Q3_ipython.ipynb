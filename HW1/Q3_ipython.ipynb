{
 "cells": [
  {
   "cell_type": "markdown",
   "metadata": {},
   "source": [
    "Q3:\n",
    "\n",
    "Manually try out the range of 10ms, 100ms, 1s and expand that range to run a for loop to check the minimum array size which causes the sorting time to exceed 10ms, 100ms, 1s, respectively.\n",
    "In the %timeit function, I increase the repeating times to 10 to minimize any overshooting."
   ]
  },
  {
   "cell_type": "code",
   "execution_count": 91,
   "metadata": {
    "collapsed": false
   },
   "outputs": [
    {
     "name": "stdout",
     "output_type": "stream",
     "text": [
      "27000 200000 1300000\n"
     ]
    }
   ],
   "source": [
    "import random\n",
    "import sys\n",
    "\n",
    "p_10ms = sys.maxsize\n",
    "p_100ms = sys.maxsize\n",
    "P_1s = sys.maxsize\n",
    "\n",
    "for p in range(8000,50000,1000):\n",
    "    x = %timeit -q -o -r 10 -n 1 [random.random() for x in range(p)].sort()\n",
    "    if(x.best > 10*10**-3): \n",
    "        p_10ms = p\n",
    "        break;\n",
    "\n",
    "for p in range(180000,210000,10000):\n",
    "    x = %timeit -q -o -r 10 -n 1 [random.random() for x in range(p)].sort()\n",
    "    if(x.best > 100*10**-3): \n",
    "        p_100ms = p\n",
    "        break;\n",
    "        \n",
    "for p in range(1200000,1500000,100000):\n",
    "    x = %timeit -q -o -r 10 -n 1 [random.random() for x in range(p)].sort()\n",
    "    if(x.best > 1000*10**-3): \n",
    "        p_1s = p\n",
    "        break;\n",
    "\n",
    "print(p_10ms, p_100ms, p_1s)"
   ]
  }
 ],
 "metadata": {
  "kernelspec": {
   "display_name": "Python 3",
   "language": "python",
   "name": "python3"
  },
  "language_info": {
   "codemirror_mode": {
    "name": "ipython",
    "version": 3
   },
   "file_extension": ".py",
   "mimetype": "text/x-python",
   "name": "python",
   "nbconvert_exporter": "python",
   "pygments_lexer": "ipython3",
   "version": "3.5.3"
  }
 },
 "nbformat": 4,
 "nbformat_minor": 2
}
